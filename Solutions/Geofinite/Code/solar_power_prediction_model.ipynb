{
 "cells": [
  {
   "cell_type": "code",
   "execution_count": 1,
   "metadata": {},
   "outputs": [],
   "source": [
    "import pandas as pd\n",
    "from warnings import simplefilter\n",
    "simplefilter(action='ignore', category=FutureWarning)\n",
    "import os\n",
    "from sqlalchemy import create_engine\n",
    "from sklearn.model_selection import KFold"
   ]
  },
  {
   "cell_type": "code",
   "execution_count": 2,
   "metadata": {},
   "outputs": [],
   "source": [
    "exists=os.path.isfile(os.getcwd())\n",
    "if exists:\n",
    "    df_table =pd.read_csv('energy_table.csv').dropna()\n",
    "else:\n",
    "    USER = \"georgia\"\n",
    "    engine = create_engine(f\"postgres+psycopg2://{USER}@energy-link.ct4qqgmkkpxw.eu-west-1.rds.amazonaws.com:5432/energylink\")\n",
    "    df_table = pd.read_sql_table(table_name=\"energy_table\", schema=\"energylink\", con=engine)\n"
   ]
  },
  {
   "cell_type": "code",
   "execution_count": 3,
   "metadata": {},
   "outputs": [
    {
     "data": {
      "text/plain": [
       "0.4944485664568552"
      ]
     },
     "execution_count": 3,
     "metadata": {},
     "output_type": "execute_result"
    }
   ],
   "source": [
    "#check number of 0 values for the target\n",
    "(df_table.solar_potential==0).sum()/df_table.solar_potential.shape[0]"
   ]
  },
  {
   "cell_type": "markdown",
   "metadata": {},
   "source": [
    "Since a big portion of the data is 0s, the best aproach is to guess the times that no energy is produced by the solar panels"
   ]
  },
  {
   "cell_type": "markdown",
   "metadata": {},
   "source": [
    "Since, except special ocasions, this is mostly due the time of the day, this wil be a clasification model depending on the time of day and date"
   ]
  },
  {
   "cell_type": "markdown",
   "metadata": {},
   "source": [
    "First we must parse date and time to use on random forest models"
   ]
  },
  {
   "cell_type": "code",
   "execution_count": 4,
   "metadata": {},
   "outputs": [],
   "source": [
    "df_table['month'] = df_table.local.apply(lambda v: int(v[5:7]))\n",
    "df_table['day'] = df_table.local.apply(lambda v: int(v[8:10]))\n",
    "df_table['hour'] = df_table.local.apply(lambda v: int(v[11:13]))\n",
    "\n"
   ]
  },
  {
   "cell_type": "markdown",
   "metadata": {},
   "source": [
    "Now is time to create the \"target\": does it receives any energy? (0: no, 1:yes)"
   ]
  },
  {
   "cell_type": "code",
   "execution_count": 5,
   "metadata": {},
   "outputs": [],
   "source": [
    "df_table['gets_energy'] = df_table.solar_potential.apply(lambda v:1 if v>0 else 0)"
   ]
  },
  {
   "cell_type": "markdown",
   "metadata": {},
   "source": [
    "## Clasification model"
   ]
  },
  {
   "cell_type": "code",
   "execution_count": 6,
   "metadata": {},
   "outputs": [],
   "source": [
    "from sklearn.ensemble import RandomForestClassifier\n",
    "from sklearn.ensemble import RandomForestRegressor\n",
    "from sklearn.model_selection import train_test_split\n",
    "import numpy as np"
   ]
  },
  {
   "cell_type": "code",
   "execution_count": 7,
   "metadata": {},
   "outputs": [],
   "source": [
    "X1 = df_table[['month','day','hour']].copy()\n",
    "y1 = df_table['gets_energy'].copy()\n"
   ]
  },
  {
   "cell_type": "code",
   "execution_count": 8,
   "metadata": {},
   "outputs": [],
   "source": [
    "\n",
    "kf = KFold(n_splits=10,random_state=314)\n",
    "classifier_model = {}\n",
    "split_n = 0\n",
    "y_pred_class = pd.Series()\n",
    "for train_index, test_index in kf.split(X1):\n",
    "    X_train = X1.loc[train_index,:].dropna()\n",
    "    y_train = y1.loc[train_index].dropna()\n",
    "    X_test = X1.loc[test_index,:].dropna()\n",
    "    y_test = y1.loc[test_index].dropna()\n",
    "    \n",
    "    classifier = RandomForestClassifier()\n",
    "    classifier.fit(X_train,y_train)\n",
    "    classifier_model[split_n]={'model': classifier,\n",
    "                               'X_train': X_train,\n",
    "                               'X_test': X_test,\n",
    "                               'y_train': y_train,\n",
    "                               'y_test': y_test\n",
    "                              }\n",
    "    \n",
    "    y_pred_class = y_pred_class.append(pd.Series(classifier.predict(X_test),index=y_test.index))\n",
    "    split_n=split_n+1"
   ]
  },
  {
   "cell_type": "code",
   "execution_count": 9,
   "metadata": {},
   "outputs": [
    {
     "data": {
      "text/plain": [
       "0.00850884566995774"
      ]
     },
     "execution_count": 9,
     "metadata": {},
     "output_type": "execute_result"
    }
   ],
   "source": [
    "(y_pred_class-y1).sum() / y1.shape[0]"
   ]
  },
  {
   "cell_type": "code",
   "execution_count": 10,
   "metadata": {},
   "outputs": [
    {
     "data": {
      "text/plain": [
       "0"
      ]
     },
     "execution_count": 10,
     "metadata": {},
     "output_type": "execute_result"
    }
   ],
   "source": [
    "y1.shape[0]-y_pred_class.shape[0] #error to fix if applicable"
   ]
  },
  {
   "cell_type": "markdown",
   "metadata": {},
   "source": [
    "# Regresion Model"
   ]
  },
  {
   "cell_type": "code",
   "execution_count": 11,
   "metadata": {},
   "outputs": [],
   "source": [
    "X2 = df_table[['irradiation','temperature','cloud','month','day','hour']].copy()\n",
    "y2 = df_table['solar_potential'].copy()  \n",
    "X2 = X2[y2!=0]\n",
    "y2 = y2[y2!=0]\n",
    "\n",
    "split_n = 0\n",
    "y_pred_regr = pd.Series()\n",
    "\n",
    "regresion_model = {}\n",
    "for train_index, test_index in kf.split(X2):\n",
    "\n",
    "    X_train = X2.loc[train_index,:].dropna()\n",
    "    y_train = y2.loc[train_index].dropna()\n",
    "    X_test = X2.loc[test_index,:].dropna()\n",
    "    y_test = y2.loc[test_index].dropna()\n",
    "\n",
    "    regr = RandomForestRegressor()\n",
    "    regr.fit(X_train,y_train)\n",
    "    regresion_model[split_n]={'model': regr,\n",
    "                              'X_train': X_train,\n",
    "                              'X_test': X_test,\n",
    "                              'y_train': y_train,\n",
    "                              'y_test': y_test\n",
    "                              }\n",
    "    \n",
    "    y_pred_regr = y_pred_regr.append(pd.Series(regr.predict(X_test),index=y_test.index))\n",
    "    split_n=split_n+1"
   ]
  },
  {
   "cell_type": "markdown",
   "metadata": {},
   "source": [
    "Now lets train a simple regresion random forest model"
   ]
  },
  {
   "cell_type": "code",
   "execution_count": 12,
   "metadata": {},
   "outputs": [],
   "source": [
    "df_table['clas_pred'] = y_pred_class \n",
    "df_table['reg_pred'] = y_pred_regr \n",
    "df_table = df_table.fillna(0)\n",
    "df_table['prediction'] = df_table['clas_pred'] *df_table['reg_pred']\n"
   ]
  },
  {
   "cell_type": "markdown",
   "metadata": {},
   "source": [
    "# Daily error analysis"
   ]
  },
  {
   "cell_type": "code",
   "execution_count": 13,
   "metadata": {},
   "outputs": [],
   "source": [
    "result_grouped = df_table[['prediction','solar_potential','month','day']].groupby(['month','day']).sum()\n"
   ]
  },
  {
   "cell_type": "code",
   "execution_count": 14,
   "metadata": {},
   "outputs": [
    {
     "data": {
      "text/plain": [
       "count    366.000000\n",
       "mean     -28.275081\n",
       "std       63.249995\n",
       "min     -100.000000\n",
       "25%      -63.061935\n",
       "50%      -47.171082\n",
       "75%      -19.934131\n",
       "max      372.304683\n",
       "dtype: float64"
      ]
     },
     "execution_count": 14,
     "metadata": {},
     "output_type": "execute_result"
    }
   ],
   "source": [
    "((result_grouped['prediction'] / result_grouped['solar_potential'] -1)*100).describe()"
   ]
  },
  {
   "cell_type": "code",
   "execution_count": null,
   "metadata": {},
   "outputs": [],
   "source": []
  },
  {
   "cell_type": "markdown",
   "metadata": {},
   "source": [
    "## forecasted data\n"
   ]
  },
  {
   "cell_type": "code",
   "execution_count": 35,
   "metadata": {},
   "outputs": [],
   "source": [
    "\n",
    "df_table_forecasted = pd.read_sql_table(table_name=\"future\", schema=\"energylink\", con=engine)\n",
    "#df_table_input =pd.read_csv('input_data.csv').dropna()"
   ]
  },
  {
   "cell_type": "code",
   "execution_count": 36,
   "metadata": {},
   "outputs": [],
   "source": [
    "df_table_forecasted['month'] = df_table_forecasted.local.apply(lambda v: int(v[5:7]))\n",
    "df_table_forecasted['day'] = df_table_forecasted.local.apply(lambda v: int(v[8:10]))\n",
    "df_table_forecasted['hour'] = df_table_forecasted.local.apply(lambda v: int(v[11:13]))\n",
    "\n",
    "df_table_forecasted.drop(['time', 'id', 'local','solar_potential'], axis=1, inplace=True)\n"
   ]
  },
  {
   "cell_type": "code",
   "execution_count": null,
   "metadata": {},
   "outputs": [],
   "source": []
  },
  {
   "cell_type": "code",
   "execution_count": null,
   "metadata": {},
   "outputs": [],
   "source": []
  }
 ],
 "metadata": {
  "kernelspec": {
   "display_name": "Python 3",
   "language": "python",
   "name": "python3"
  },
  "language_info": {
   "codemirror_mode": {
    "name": "ipython",
    "version": 3
   },
   "file_extension": ".py",
   "mimetype": "text/x-python",
   "name": "python",
   "nbconvert_exporter": "python",
   "pygments_lexer": "ipython3",
   "version": "3.6.4"
  }
 },
 "nbformat": 4,
 "nbformat_minor": 2
}
